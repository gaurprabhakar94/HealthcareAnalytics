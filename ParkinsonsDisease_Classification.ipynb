{
 "cells": [
  {
   "cell_type": "markdown",
   "metadata": {},
   "source": [
    "This dataset is composed of a range of biomedical voice measurements from 31 people, 23 with Parkinson's disease (PD). Each column in the table is a particular voice measure, and each row corresponds one of 195 voice recording from these individuals. The main aim of the data is to discriminate healthy people from those with PD, according to \"status\" column which is set to 0 for healthy and 1 for PD.\n",
    "\n",
    "The dataset was created by Max Little of the University of Oxford, in collaboration with the National Centre for Voice and Speech, Denver, Colorado, who recorded the speech signals. \n",
    "\n",
    "The data is in ASCII CSV format. The rows of the CSV file contain an instance corresponding to one voice recording. There are around six recordings per patient, the name of the patient is identified in the first column.\n",
    "\n",
    "Our end objective here is to differentiate between people who have Parkinson’s and who don’t, and then fine-tunes the parameters in an attempt to maximize the accuracy of the testing set and reducing the false positive rate.\n",
    "\n",
    "With 19 different attempts and techniques, the highest accuracy score achieved is 94.9%. All the achieved scores have been tabulated in the end. "
   ]
  },
  {
   "cell_type": "code",
   "execution_count": 1,
   "metadata": {},
   "outputs": [],
   "source": [
    "import pandas as pd\n",
    "from sklearn.model_selection import train_test_split\n",
    "import os\n",
    "from sklearn.svm import SVC\n",
    "import numpy as np\n",
    "from sklearn.preprocessing import Normalizer, MaxAbsScaler, MinMaxScaler, StandardScaler, RobustScaler, KernelCenterer\n",
    "from sklearn.decomposition import PCA\n",
    "from sklearn import manifold"
   ]
  },
  {
   "cell_type": "code",
   "execution_count": 2,
   "metadata": {},
   "outputs": [
    {
     "name": "stdout",
     "output_type": "stream",
     "text": [
      "             name  MDVP:Fo(Hz)  MDVP:Fhi(Hz)  MDVP:Flo(Hz)  MDVP:Jitter(%)  \\\n",
      "0  phon_R01_S01_1      119.992       157.302        74.997         0.00784   \n",
      "1  phon_R01_S01_2      122.400       148.650       113.819         0.00968   \n",
      "\n",
      "   MDVP:Jitter(Abs)  MDVP:RAP  MDVP:PPQ  Jitter:DDP  MDVP:Shimmer    ...     \\\n",
      "0           0.00007   0.00370   0.00554     0.01109       0.04374    ...      \n",
      "1           0.00008   0.00465   0.00696     0.01394       0.06134    ...      \n",
      "\n",
      "   Shimmer:DDA      NHR     HNR  status      RPDE       DFA   spread1  \\\n",
      "0      0.06545  0.02211  21.033       1  0.414783  0.815285 -4.813031   \n",
      "1      0.09403  0.01929  19.085       1  0.458359  0.819521 -4.075192   \n",
      "\n",
      "    spread2        D2       PPE  \n",
      "0  0.266482  2.301442  0.284654  \n",
      "1  0.335590  2.486855  0.368674  \n",
      "\n",
      "[2 rows x 24 columns]\n"
     ]
    }
   ],
   "source": [
    "#\n",
    "# Loading up the dataset\n",
    "X = pd.read_csv(\"Datasets\\\\parkinsons.data\", header=0)\n",
    "print(X.head(2))"
   ]
  },
  {
   "cell_type": "code",
   "execution_count": 3,
   "metadata": {},
   "outputs": [
    {
     "name": "stdout",
     "output_type": "stream",
     "text": [
      "       MDVP:Fo(Hz)  MDVP:Fhi(Hz)  MDVP:Flo(Hz)  MDVP:Jitter(%)  \\\n",
      "count   195.000000    195.000000    195.000000      195.000000   \n",
      "mean    154.228641    197.104918    116.324631        0.006220   \n",
      "std      41.390065     91.491548     43.521413        0.004848   \n",
      "min      88.333000    102.145000     65.476000        0.001680   \n",
      "25%     117.572000    134.862500     84.291000        0.003460   \n",
      "50%     148.790000    175.829000    104.315000        0.004940   \n",
      "75%     182.769000    224.205500    140.018500        0.007365   \n",
      "max     260.105000    592.030000    239.170000        0.033160   \n",
      "\n",
      "       MDVP:Jitter(Abs)    MDVP:RAP    MDVP:PPQ  Jitter:DDP  MDVP:Shimmer  \\\n",
      "count        195.000000  195.000000  195.000000  195.000000    195.000000   \n",
      "mean           0.000044    0.003306    0.003446    0.009920      0.029709   \n",
      "std            0.000035    0.002968    0.002759    0.008903      0.018857   \n",
      "min            0.000007    0.000680    0.000920    0.002040      0.009540   \n",
      "25%            0.000020    0.001660    0.001860    0.004985      0.016505   \n",
      "50%            0.000030    0.002500    0.002690    0.007490      0.022970   \n",
      "75%            0.000060    0.003835    0.003955    0.011505      0.037885   \n",
      "max            0.000260    0.021440    0.019580    0.064330      0.119080   \n",
      "\n",
      "       MDVP:Shimmer(dB)     ...      Shimmer:DDA         NHR         HNR  \\\n",
      "count        195.000000     ...       195.000000  195.000000  195.000000   \n",
      "mean           0.282251     ...         0.046993    0.024847   21.885974   \n",
      "std            0.194877     ...         0.030459    0.040418    4.425764   \n",
      "min            0.085000     ...         0.013640    0.000650    8.441000   \n",
      "25%            0.148500     ...         0.024735    0.005925   19.198000   \n",
      "50%            0.221000     ...         0.038360    0.011660   22.085000   \n",
      "75%            0.350000     ...         0.060795    0.025640   25.075500   \n",
      "max            1.302000     ...         0.169420    0.314820   33.047000   \n",
      "\n",
      "           status        RPDE         DFA     spread1     spread2          D2  \\\n",
      "count  195.000000  195.000000  195.000000  195.000000  195.000000  195.000000   \n",
      "mean     0.753846    0.498536    0.718099   -5.684397    0.226510    2.381826   \n",
      "std      0.431878    0.103942    0.055336    1.090208    0.083406    0.382799   \n",
      "min      0.000000    0.256570    0.574282   -7.964984    0.006274    1.423287   \n",
      "25%      1.000000    0.421306    0.674758   -6.450096    0.174351    2.099125   \n",
      "50%      1.000000    0.495954    0.722254   -5.720868    0.218885    2.361532   \n",
      "75%      1.000000    0.587562    0.761881   -5.046192    0.279234    2.636456   \n",
      "max      1.000000    0.685151    0.825288   -2.434031    0.450493    3.671155   \n",
      "\n",
      "              PPE  \n",
      "count  195.000000  \n",
      "mean     0.206552  \n",
      "std      0.090119  \n",
      "min      0.044539  \n",
      "25%      0.137451  \n",
      "50%      0.194052  \n",
      "75%      0.252980  \n",
      "max      0.527367  \n",
      "\n",
      "[8 rows x 23 columns]\n"
     ]
    }
   ],
   "source": [
    "print(X.describe())"
   ]
  },
  {
   "cell_type": "code",
   "execution_count": 4,
   "metadata": {},
   "outputs": [
    {
     "name": "stdout",
     "output_type": "stream",
     "text": [
      "name                 object\n",
      "MDVP:Fo(Hz)         float64\n",
      "MDVP:Fhi(Hz)        float64\n",
      "MDVP:Flo(Hz)        float64\n",
      "MDVP:Jitter(%)      float64\n",
      "MDVP:Jitter(Abs)    float64\n",
      "MDVP:RAP            float64\n",
      "MDVP:PPQ            float64\n",
      "Jitter:DDP          float64\n",
      "MDVP:Shimmer        float64\n",
      "MDVP:Shimmer(dB)    float64\n",
      "Shimmer:APQ3        float64\n",
      "Shimmer:APQ5        float64\n",
      "MDVP:APQ            float64\n",
      "Shimmer:DDA         float64\n",
      "NHR                 float64\n",
      "HNR                 float64\n",
      "status                int64\n",
      "RPDE                float64\n",
      "DFA                 float64\n",
      "spread1             float64\n",
      "spread2             float64\n",
      "D2                  float64\n",
      "PPE                 float64\n",
      "dtype: object\n"
     ]
    }
   ],
   "source": [
    "print(X.dtypes)"
   ]
  },
  {
   "cell_type": "code",
   "execution_count": 5,
   "metadata": {},
   "outputs": [
    {
     "name": "stdout",
     "output_type": "stream",
     "text": [
      "Empty DataFrame\n",
      "Columns: [name, MDVP:Fo(Hz), MDVP:Fhi(Hz), MDVP:Flo(Hz), MDVP:Jitter(%), MDVP:Jitter(Abs), MDVP:RAP, MDVP:PPQ, Jitter:DDP, MDVP:Shimmer, MDVP:Shimmer(dB), Shimmer:APQ3, Shimmer:APQ5, MDVP:APQ, Shimmer:DDA, NHR, HNR, status, RPDE, DFA, spread1, spread2, D2, PPE]\n",
      "Index: []\n",
      "\n",
      "[0 rows x 24 columns]\n",
      "Has null values in the data:  False\n"
     ]
    }
   ],
   "source": [
    "# Checking for null values in the dataframe\n",
    "print (X[pd.isnull(X).any(axis=1)])\n",
    "print(\"Has null values in the data: \",X.isnull().values.any())"
   ]
  },
  {
   "cell_type": "code",
   "execution_count": 6,
   "metadata": {},
   "outputs": [
    {
     "name": "stdout",
     "output_type": "stream",
     "text": [
      "   MDVP:Fo(Hz)  MDVP:Fhi(Hz)  MDVP:Flo(Hz)  MDVP:Jitter(%)  MDVP:Jitter(Abs)  \\\n",
      "0      119.992       157.302        74.997         0.00784           0.00007   \n",
      "1      122.400       148.650       113.819         0.00968           0.00008   \n",
      "\n",
      "   MDVP:RAP  MDVP:PPQ  Jitter:DDP  MDVP:Shimmer  MDVP:Shimmer(dB)    ...     \\\n",
      "0   0.00370   0.00554     0.01109       0.04374             0.426    ...      \n",
      "1   0.00465   0.00696     0.01394       0.06134             0.626    ...      \n",
      "\n",
      "   MDVP:APQ  Shimmer:DDA      NHR     HNR      RPDE       DFA   spread1  \\\n",
      "0   0.02971      0.06545  0.02211  21.033  0.414783  0.815285 -4.813031   \n",
      "1   0.04368      0.09403  0.01929  19.085  0.458359  0.819521 -4.075192   \n",
      "\n",
      "    spread2        D2       PPE  \n",
      "0  0.266482  2.301442  0.284654  \n",
      "1  0.335590  2.486855  0.368674  \n",
      "\n",
      "[2 rows x 22 columns]\n"
     ]
    }
   ],
   "source": [
    "# Since our data does not need any cleaning, we will proceed with \n",
    "# dropping the name column and splicing out the status column \n",
    "# into a variable y and delete it from X.\n",
    "y = X.status\n",
    "X.drop([\"name\", \"status\"], inplace=True, axis = 1)\n",
    "print(X.head(2))"
   ]
  },
  {
   "cell_type": "code",
   "execution_count": 7,
   "metadata": {},
   "outputs": [],
   "source": [
    "#Perform a train/test split. 30% test group size, \n",
    "#with a random_state equal to 7.\n",
    "X_train, X_test, y_train, y_test = train_test_split(X,y, test_size=.3, random_state=7)"
   ]
  },
  {
   "cell_type": "markdown",
   "metadata": {},
   "source": [
    "Our ultimate aim is to be create a SVC classifier with a high accuracy score. We will try doing the following \n",
    "    1. Train a simple SVC Classifier without any feature scaling\n",
    "    2. Perform feature scaling and test the accuracy of our simple SVC Classifier\n",
    "    3. Preprocess the data using PCA and test the accuracy\n",
    "    4. Preprocess the data using Isomap and test the accuracy\n",
    "    \n",
    "To proceed with step 1 of this, we will have to run just the below block of cell and comment everything after that."
   ]
  },
  {
   "cell_type": "code",
   "execution_count": 8,
   "metadata": {},
   "outputs": [],
   "source": [
    "# Creating a simple SVC classifier without \n",
    "# specifying any parameters and leaving them as default.\n",
    "# svc = SVC()\n",
    "# svc.fit(X_train, y_train)\n",
    "# score = svc.score(X_test, y_test)\n",
    "# print(score) "
   ]
  },
  {
   "cell_type": "markdown",
   "metadata": {},
   "source": [
    "To proceed with step 2, we will have to\n",
    "    1. Make sure a restart and run all has been performed\n",
    "    2. Make sure that the one cell above this is all commented\n",
    "    3. uncomment only one of the feature scaling techniques and let the other techniques remain commented\n",
    "    \n",
    "We will then have to run the above svc model on this feature scaled dataset. \n",
    "\n",
    "Re-iterate this process 6 times, ensuring that a new feature scaling technique is selected everytime. Keep a tab for the accuracy score printed. "
   ]
  },
  {
   "cell_type": "code",
   "execution_count": 9,
   "metadata": {},
   "outputs": [],
   "source": [
    "#\n",
    "# The features consist of different units mixed in together, so we will perform\n",
    "# feature scaling. \n",
    "\n",
    "norm = Normalizer().fit(X_train)\n",
    "maxabs = MaxAbsScaler().fit(X_train)\n",
    "minmax = MinMaxScaler().fit(X_train)\n",
    "stand = StandardScaler().fit(X_train)\n",
    "robust = RobustScaler().fit(X_train)\n",
    "kernel = KernelCenterer().fit(X_train)\n",
    "\n",
    "# X_train = norm.transform(X_train) #79.6 \n",
    "# X_test = norm.transform(X_test)\n",
    "\n",
    "# X_train = maxabs.transform(X_train) #79.6 \n",
    "# X_test = maxabs.transform(X_test)\n",
    "\n",
    "# X_train = minmax.transform(X_train) #79.6\n",
    "# X_test = minmax.transform(X_test)\n",
    "\n",
    "X_train = stand.transform(X_train) #91.5\n",
    "X_test = stand.transform(X_test) \n",
    "\n",
    "# X_train = robust.transform(X_train) #89.83\n",
    "# X_test = robust.transform(X_test) \n",
    "\n",
    "# X_train = kernel.transform(X_train) #81.35\n",
    "# X_test = kernel.transform(X_test) "
   ]
  },
  {
   "cell_type": "markdown",
   "metadata": {},
   "source": [
    "To proceed with step 3, we will have to\n",
    "    1. Make sure a restart and run all has been performed\n",
    "    2. Make sure that the the code used for step 1 is commented\n",
    "    3. Uncomment only one of the feature scaling techniques and let the other techniques remain commented\n",
    "    \n",
    "We will then pass the normalized values to our PCA model and then train our svc model with this. \n",
    "\n",
    "Re-iterate this process 6 times, ensuring that a new feature scaling technique is selected everytime. Keep a tab for the accuracy score printed. \n",
    "\n",
    "Comment the below block of code completely to proceed with step 4 and repeat the same steps that we followed for step 3."
   ]
  },
  {
   "cell_type": "markdown",
   "metadata": {},
   "source": [
    "#### We are creating a best-parameter search by creating nested for-loops. The outer for-loop iterates a variable C from 0.05 to 2, using 0.05 unit increments. The inner for-loop increments a variable gamma from 0.001 to 0.1, using 0.001 unit increments. Also since Python ranges won't allow for float intervals, we'll use NumPy ARanges."
   ]
  },
  {
   "cell_type": "code",
   "execution_count": 10,
   "metadata": {},
   "outputs": [],
   "source": [
    "C = 0.05\n",
    "gamma = 0.001\n",
    "best_score = 0\n",
    "c_range = np.arange(0.05,2.05, 0.05)\n",
    "gamma_range = np.arange(0.001, .101, 0.001)\n",
    "pca_range = np.arange(4,15,1)\n",
    "iso_range_neighbors = np.arange(2,6,1)\n",
    "iso_range_components = np.arange(4,7,1)\n",
    "n_components = 0\n",
    "n_neighbors = 0"
   ]
  },
  {
   "cell_type": "code",
   "execution_count": 11,
   "metadata": {},
   "outputs": [],
   "source": [
    "# for b in pca_range:\n",
    "#     pca = PCA(n_components=b)\n",
    "#     pca.fit(X_train)\n",
    "#     X_Ltrain = pca.transform(X_train)\n",
    "#     X_Ltest = pca.transform(X_test)\n",
    "\n",
    "#     for i in c_range:\n",
    "#         for j in gamma_range:\n",
    "#             #\n",
    "#             # Creating an SVC model and passing in the C and gamma parameters. \n",
    "#             # Training and then scoring the model appropriately. \n",
    "#             # If the current best_score is less than the model's score, we\n",
    "#             # update the best_score and print it out along with \n",
    "#             # the n_components, C and gamma values that resulted in it.\n",
    "#             #\n",
    "#             model = SVC(C=i, gamma=j)\n",
    "#             model.fit(X_Ltrain, y_train)\n",
    "#             score = model.score(X_Ltest, y_test)\n",
    "#             if(best_score<score):\n",
    "#                 best_score = score\n",
    "#                 C = i\n",
    "#                 gamma = j\n",
    "#                 n_components = b\n",
    "\n",
    "# print(\"Best score:\", best_score)\n",
    "# print(\"Best C:\", C)\n",
    "# print(\"Best gamma:\", gamma)\n",
    "# print(\"Best n_components:\", n_components)"
   ]
  },
  {
   "cell_type": "code",
   "execution_count": 12,
   "metadata": {},
   "outputs": [
    {
     "name": "stdout",
     "output_type": "stream",
     "text": [
      "Best score: 0.9491525423728814\n",
      "Best C: 0.7500000000000001\n",
      "Best gamma: 0.05\n",
      "Best n_components: 5\n",
      "Best n_neighbors: 2\n"
     ]
    }
   ],
   "source": [
    "for a in iso_range_neighbors:\n",
    "    for b in iso_range_components:\n",
    "        iso = manifold.Isomap(n_neighbors = a, n_components = b)\n",
    "        iso.fit(X_train)\n",
    "        X_Ltrain = iso.transform(X_train)\n",
    "        X_Ltest = iso.transform(X_test)\n",
    "\n",
    "        for i in c_range:\n",
    "            for j in gamma_range:\n",
    "                    #\n",
    "                    # Creating an SVC model and passing in the C and gamma parameters. \n",
    "                    # Training and then scoring the model appropriately. \n",
    "                    # If the current best_score is less than the model's score, we\n",
    "                    # update the best_score and print it out along with \n",
    "                    # the n_components, C and gamma values that resulted in it.\n",
    "                    #\n",
    "                model = SVC(C=i, gamma=j)\n",
    "                model.fit(X_Ltrain, y_train)\n",
    "                score = model.score(X_Ltest, y_test)\n",
    "                if(best_score<score):\n",
    "                    best_score = score\n",
    "                    C = i\n",
    "                    gamma = j\n",
    "                    n_components = b\n",
    "                    n_neighbors = a\n",
    "\n",
    "print(\"Best score:\", best_score)\n",
    "print(\"Best C:\", C)\n",
    "print(\"Best gamma:\", gamma)\n",
    "print(\"Best n_components:\", n_components)\n",
    "print(\"Best n_neighbors:\", n_neighbors)"
   ]
  },
  {
   "cell_type": "markdown",
   "metadata": {},
   "source": [
    "| Feature Scaling | Default SVC score | SVC after PCA score | SVC after Isomap score |\n",
    "| --------------- | ----------------- | ------------------- | ---------------------- |\n",
    "| None            | 81.4%             | NA                  | NA                     |\n",
    "| Normalizer      | 79.6%             | 79.6%               | 79.7%                  |\n",
    "| MaxAbsScaler    | 79.6%             | 88.1%               | 88.1%                  |\n",
    "| MinMaxScaler    | 79.6%             | 88.1%               | 88.1%                  |\n",
    "| StandardScaler  | 91.5%             | 93.2%               | 94.9%                  |\n",
    "| RobustScaler    | 89.8%             | 91.5%               | 94.9%                  |\n",
    "| KernelCenterer  | 81.4%             | 91.5%               | 91.5%                  |"
   ]
  }
 ],
 "metadata": {
  "kernelspec": {
   "display_name": "Python 3",
   "language": "python",
   "name": "python3"
  },
  "language_info": {
   "codemirror_mode": {
    "name": "ipython",
    "version": 3
   },
   "file_extension": ".py",
   "mimetype": "text/x-python",
   "name": "python",
   "nbconvert_exporter": "python",
   "pygments_lexer": "ipython3",
   "version": "3.6.6"
  }
 },
 "nbformat": 4,
 "nbformat_minor": 2
}
