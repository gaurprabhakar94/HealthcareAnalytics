{
 "cells": [
  {
   "cell_type": "markdown",
   "metadata": {},
   "source": [
    "Breast cancer usually starts from an uncontrolled growth of the cells that make up the milk-producing ducts. Breast cancer doesn't develop over night and, like any other cancer, can be treated extremely effectively if detected in its earlier stages. Part of the understanding cancer is knowing that not all irregular cell growths are malignant; some are benign, or non-dangerous, non-cancerous growths. A benign tumor does not mean the mass doesn't increase in size, but only means it does not pose a threat to nearby tissue, nor is it likely to spread to other parts of the body. The mass simply stays wherever it's growing. Benign tumors are actually pretty popular, such as moles and some warts. Being able to properly assess if a tumor is actually benign and ignorable, or malignant and alarming is therefore of importance, and also is a problem that might be solvable through data and machine learning.\n",
    "\n",
    "Here, we'll be using the Breast Cancer Wisconsin Original  data set, provided courtesy of UCI's Machine Learning Repository. \n",
    "\n",
    "We wills start by loading up the data and cleaning up the dataset. Once we have the data in the desired form, we will split it to do feature scaling since the features use different units, and then implement PCA and IsoMap and test the performance of both as the technique used to reduce the dimensionality of the dataset down to two variables.\n",
    "\n",
    "We will then also train KNeighborsClassifier on the 2D projected training dataset and score KNeighborsClassifier on the 2D projected testing dataset. We will then plot the decision boundary for visual confirmation."
   ]
  },
  {
   "cell_type": "code",
   "execution_count": 1,
   "metadata": {},
   "outputs": [],
   "source": [
    "import pandas as pd\n",
    "from sklearn.model_selection import train_test_split\n",
    "from sklearn import preprocessing\n",
    "from sklearn.decomposition import PCA\n",
    "from sklearn import manifold\n",
    "from sklearn.preprocessing import Normalizer, MaxAbsScaler, MinMaxScaler, StandardScaler, RobustScaler\n",
    "from sklearn.neighbors import KNeighborsClassifier\n",
    "from sklearn.metrics import accuracy_score\n",
    "import matplotlib.pyplot as plt\n",
    "import matplotlib\n",
    "matplotlib.style.use('ggplot') # Look Pretty"
   ]
  },
  {
   "cell_type": "code",
   "execution_count": 2,
   "metadata": {},
   "outputs": [],
   "source": [
    "# True if test with PCA\n",
    "Test_PCA = True"
   ]
  },
  {
   "cell_type": "code",
   "execution_count": 3,
   "metadata": {},
   "outputs": [],
   "source": [
    "def plotDecisionBoundary(model, X, y):\n",
    "    print (\"Plotting...\")\n",
    "    \n",
    "    fig = plt.figure()\n",
    "    ax = fig.add_subplot(111)\n",
    "\n",
    "    padding = 0.1\n",
    "    resolution = 0.1\n",
    "\n",
    "    #(2 for benign, 4 for malignant)\n",
    "    colors = {2:'royalblue',4:'lightsalmon'} \n",
    "\n",
    "\n",
    "    # Calculate the boundaris\n",
    "    x_min, x_max = X[:, 0].min(), X[:, 0].max()\n",
    "    y_min, y_max = X[:, 1].min(), X[:, 1].max()\n",
    "    x_range = x_max - x_min\n",
    "    y_range = y_max - y_min\n",
    "    x_min -= x_range * padding\n",
    "    y_min -= y_range * padding\n",
    "    x_max += x_range * padding\n",
    "    y_max += y_range * padding\n",
    "\n",
    "    # Creating a 2D Grid Matrix. The values stored in the matrix\n",
    "    # are the predictions of the class at at said location\n",
    "    import numpy as np\n",
    "    xx, yy = np.meshgrid(np.arange(x_min, x_max, resolution),\n",
    "                       np.arange(y_min, y_max, resolution))\n",
    "\n",
    "    Z = model.predict(np.c_[xx.ravel(), yy.ravel()])\n",
    "    Z = Z.reshape(xx.shape)\n",
    "\n",
    "    # Plotting the contour map\n",
    "    plt.contourf(xx, yy, Z, cmap=plt.cm.seismic)\n",
    "    plt.axis('tight')\n",
    "\n",
    "    # Plotting the testing points\n",
    "    for label in np.unique(y):\n",
    "        indices = np.where(y == label)\n",
    "        plt.scatter(X[indices, 0], X[indices, 1], c=colors[label], alpha=0.8)\n",
    "\n",
    "    p = model.get_params()\n",
    "    plt.title('K = ' + str(p['n_neighbors']))\n",
    "    plt.show()"
   ]
  },
  {
   "cell_type": "code",
   "execution_count": 4,
   "metadata": {},
   "outputs": [
    {
     "name": "stdout",
     "output_type": "stream",
     "text": [
      "    sample  thickness  size  shape  adhesion  epithelial nuclei  chromatin  \\\n",
      "0  1000025          5     1      1         1           2      1          3   \n",
      "1  1002945          5     4      4         5           7     10          3   \n",
      "\n",
      "   nucleoli  mitoses  status  \n",
      "0         1        1       2  \n",
      "1         2        1       2  \n"
     ]
    }
   ],
   "source": [
    "# \n",
    "# Loading the dataset and setting proper headers.\n",
    "df = pd.read_csv(\"Datasets/breast-cancer-wisconsin.data\", header = None, names = ['sample', 'thickness', 'size', 'shape', 'adhesion', 'epithelial', 'nuclei', 'chromatin', 'nucleoli', 'mitoses', 'status'])\n",
    "print(df.head(2))"
   ]
  },
  {
   "cell_type": "code",
   "execution_count": 5,
   "metadata": {},
   "outputs": [
    {
     "name": "stdout",
     "output_type": "stream",
     "text": [
      "             sample   thickness        size       shape    adhesion  \\\n",
      "count  6.990000e+02  699.000000  699.000000  699.000000  699.000000   \n",
      "mean   1.071704e+06    4.417740    3.134478    3.207439    2.806867   \n",
      "std    6.170957e+05    2.815741    3.051459    2.971913    2.855379   \n",
      "min    6.163400e+04    1.000000    1.000000    1.000000    1.000000   \n",
      "25%    8.706885e+05    2.000000    1.000000    1.000000    1.000000   \n",
      "50%    1.171710e+06    4.000000    1.000000    1.000000    1.000000   \n",
      "75%    1.238298e+06    6.000000    5.000000    5.000000    4.000000   \n",
      "max    1.345435e+07   10.000000   10.000000   10.000000   10.000000   \n",
      "\n",
      "       epithelial   chromatin    nucleoli     mitoses      status  \n",
      "count  699.000000  699.000000  699.000000  699.000000  699.000000  \n",
      "mean     3.216023    3.437768    2.866953    1.589413    2.689557  \n",
      "std      2.214300    2.438364    3.053634    1.715078    0.951273  \n",
      "min      1.000000    1.000000    1.000000    1.000000    2.000000  \n",
      "25%      2.000000    2.000000    1.000000    1.000000    2.000000  \n",
      "50%      2.000000    3.000000    1.000000    1.000000    2.000000  \n",
      "75%      4.000000    5.000000    4.000000    1.000000    4.000000  \n",
      "max     10.000000   10.000000   10.000000   10.000000    4.000000  \n"
     ]
    }
   ],
   "source": [
    "# Exploring the data\n",
    "print(df.describe())"
   ]
  },
  {
   "cell_type": "code",
   "execution_count": 6,
   "metadata": {},
   "outputs": [
    {
     "name": "stdout",
     "output_type": "stream",
     "text": [
      "sample         int64\n",
      "thickness      int64\n",
      "size           int64\n",
      "shape          int64\n",
      "adhesion       int64\n",
      "epithelial     int64\n",
      "nuclei        object\n",
      "chromatin      int64\n",
      "nucleoli       int64\n",
      "mitoses        int64\n",
      "status         int64\n",
      "dtype: object\n"
     ]
    }
   ],
   "source": [
    "# Checking the data types\n",
    "print(df.dtypes)"
   ]
  },
  {
   "cell_type": "markdown",
   "metadata": {},
   "source": [
    "We make the following observations:\n",
    "    1. nucleoli has a type of object even though it has just numbers "
   ]
  },
  {
   "cell_type": "code",
   "execution_count": 7,
   "metadata": {},
   "outputs": [
    {
     "name": "stdout",
     "output_type": "stream",
     "text": [
      "sample          int64\n",
      "thickness       int64\n",
      "size            int64\n",
      "shape           int64\n",
      "adhesion        int64\n",
      "epithelial      int64\n",
      "nuclei        float64\n",
      "chromatin       int64\n",
      "nucleoli        int64\n",
      "mitoses         int64\n",
      "status          int64\n",
      "dtype: object\n"
     ]
    }
   ],
   "source": [
    "# Treating the nuclei column to convert it back to numerical type\n",
    "df.nuclei = pd.to_numeric(df.nuclei, errors=\"coerce\")\n",
    "print(df.dtypes)"
   ]
  },
  {
   "cell_type": "code",
   "execution_count": 8,
   "metadata": {},
   "outputs": [
    {
     "name": "stdout",
     "output_type": "stream",
     "text": [
      "True\n",
      "      sample  thickness  size  shape  adhesion  epithelial  nuclei  chromatin  \\\n",
      "23   1057013          8     4      5         1           2     NaN          7   \n",
      "40   1096800          6     6      6         9           6     NaN          7   \n",
      "139  1183246          1     1      1         1           1     NaN          2   \n",
      "145  1184840          1     1      3         1           2     NaN          2   \n",
      "158  1193683          1     1      2         1           3     NaN          1   \n",
      "164  1197510          5     1      1         1           2     NaN          3   \n",
      "235  1241232          3     1      4         1           2     NaN          3   \n",
      "249   169356          3     1      1         1           2     NaN          3   \n",
      "275   432809          3     1      3         1           2     NaN          2   \n",
      "292   563649          8     8      8         1           2     NaN          6   \n",
      "294   606140          1     1      1         1           2     NaN          2   \n",
      "297    61634          5     4      3         1           2     NaN          2   \n",
      "315   704168          4     6      5         6           7     NaN          4   \n",
      "321   733639          3     1      1         1           2     NaN          3   \n",
      "411  1238464          1     1      1         1           1     NaN          2   \n",
      "617  1057067          1     1      1         1           1     NaN          1   \n",
      "\n",
      "     nucleoli  mitoses  status  \n",
      "23          3        1       4  \n",
      "40          8        1       2  \n",
      "139         1        1       2  \n",
      "145         1        1       2  \n",
      "158         1        1       2  \n",
      "164         1        1       2  \n",
      "235         1        1       2  \n",
      "249         1        1       2  \n",
      "275         1        1       2  \n",
      "292        10        1       4  \n",
      "294         1        1       2  \n",
      "297         3        1       2  \n",
      "315         9        1       2  \n",
      "321         1        1       2  \n",
      "411         1        1       2  \n",
      "617         1        1       2  \n"
     ]
    }
   ],
   "source": [
    "# Checking for null values in the dataframe\n",
    "print(df.isnull().values.any())\n",
    "print (df[pd.isnull(df).any(axis=1)])"
   ]
  },
  {
   "cell_type": "code",
   "execution_count": 9,
   "metadata": {},
   "outputs": [
    {
     "name": "stdout",
     "output_type": "stream",
     "text": [
      "False\n"
     ]
    }
   ],
   "source": [
    "#\n",
    "# Treating nan values\n",
    "df.nuclei = df.nuclei.fillna(df.nuclei.mean())\n",
    "print(df.isnull().values.any())"
   ]
  },
  {
   "cell_type": "code",
   "execution_count": 10,
   "metadata": {},
   "outputs": [
    {
     "name": "stdout",
     "output_type": "stream",
     "text": [
      "699\n",
      "699\n"
     ]
    }
   ],
   "source": [
    "# \n",
    "# Copying out the status column into a slice \n",
    "# and dropping the sample column since\n",
    "# it will not play any important role in training\n",
    "# our model.\n",
    "status = df.status\n",
    "print(len(df.status))\n",
    "print(len(status))\n",
    "df.drop([\"status\", \"sample\"], inplace = True, axis = 1)"
   ]
  },
  {
   "cell_type": "code",
   "execution_count": 11,
   "metadata": {},
   "outputs": [],
   "source": [
    "# Now, that our data is ready, let us split into training and testing datasets\n",
    "data_train, data_test, label_train, label_test = train_test_split(df, status, test_size = 0.5, random_state =7)"
   ]
  },
  {
   "cell_type": "code",
   "execution_count": 12,
   "metadata": {},
   "outputs": [],
   "source": [
    "# Uncomment the only one set at a time and leave them commented to run without preprocessing\n",
    "\n",
    "norm = Normalizer().fit(data_train)\n",
    "maxabs = MaxAbsScaler().fit(data_train)\n",
    "minmax = MinMaxScaler().fit(data_train)\n",
    "stand = StandardScaler().fit(data_train)\n",
    "robust = RobustScaler().fit(data_train)\n",
    "\n",
    "#data_train = norm.transform(data_train)\n",
    "#data_test = norm.transform(data_test)\n",
    "\n",
    "#data_train = maxabs.transform(data_train)\n",
    "#data_test = maxabs.transform(data_test)\n",
    "\n",
    "data_train = minmax.transform(data_train)\n",
    "data_test = minmax.transform(data_test)\n",
    "\n",
    "#data_train = stand.transform(data_train)\n",
    "#data_test = stand.transform(data_test)\n",
    "\n",
    "#data_train = robust.transform(data_train)\n",
    "#data_test = robust.transform(data_test)"
   ]
  },
  {
   "cell_type": "code",
   "execution_count": 13,
   "metadata": {
    "scrolled": true
   },
   "outputs": [
    {
     "name": "stdout",
     "output_type": "stream",
     "text": [
      "Computing 2D Principle Components\n",
      "0.9657142857142857\n",
      "Plotting...\n"
     ]
    },
    {
     "data": {
      "image/png": "[encoded data removed]",
      "text/plain": [
       "<Figure size 432x288 with 1 Axes>"
      ]
     },
     "metadata": {},
     "output_type": "display_data"
    }
   ],
   "source": [
    "model = None\n",
    "if Test_PCA:\n",
    "    print (\"Computing 2D Principle Components\")\n",
    "    model = PCA(n_components=2)\n",
    "\n",
    "else:\n",
    "    print (\"Computing 2D Isomap Manifold\")\n",
    "    model = manifold.Isomap(n_components = 2, n_neighbors = 5)\n",
    "    \n",
    "# Training the model\n",
    "model.fit(data_train)\n",
    "data_train = model.transform(data_train)\n",
    "data_test = model.transform(data_test)\n",
    "\n",
    "# \n",
    "# Implementing and training KNeighborsClassifier on the projected 2D\n",
    "# training data here.\n",
    "knmodel = KNeighborsClassifier(n_neighbors = 5, weights='uniform')\n",
    "knmodel.fit(data_train, label_train)\n",
    "predict = knmodel.predict(data_test)\n",
    "\n",
    "print(accuracy_score(label_test, predict))\n",
    "plotDecisionBoundary(knmodel, data_test, label_test)"
   ]
  }
 ],
 "metadata": {
  "kernelspec": {
   "display_name": "Python 3",
   "language": "python",
   "name": "python3"
  },
  "language_info": {
   "codemirror_mode": {
    "name": "ipython",
    "version": 3
   },
   "file_extension": ".py",
   "mimetype": "text/x-python",
   "name": "python",
   "nbconvert_exporter": "python",
   "pygments_lexer": "ipython3",
   "version": "3.6.6"
  }
 },
 "nbformat": 4,
 "nbformat_minor": 2
}
