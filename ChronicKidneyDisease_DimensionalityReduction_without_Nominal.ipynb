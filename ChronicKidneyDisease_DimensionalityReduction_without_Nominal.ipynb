{
 "cells": [
  {
   "cell_type": "markdown",
   "metadata": {},
   "source": [
    "In this lab, we are going to experiment with a subset of UCI's Chronic Kidney Disease data set, a collection of samples taken from patients in India over a two month period, some of whom were in the early stages of the disease.\n",
    "\n",
    "We will carry this analysis excluding all the nominal variables in the dataset."
   ]
  },
  {
   "cell_type": "code",
   "execution_count": 1,
   "metadata": {},
   "outputs": [],
   "source": [
    "import pandas as pd\n",
    "import matplotlib.pyplot as plt\n",
    "import matplotlib\n",
    "from sklearn.decomposition import PCA\n",
    "from sklearn import preprocessing\n",
    "import math\n",
    "# Look pretty...\n",
    "plt.style.use('ggplot')"
   ]
  },
  {
   "cell_type": "markdown",
   "metadata": {},
   "source": [
    "PCA requires data to be standardized -- in other words it's mean should be equal to 0, and it should have unit variance. Feature scaling is the type of transformation that only changes the scale and not number of features, so we'll use the original dataset column names. Below is a function to help us perform feature scaling."
   ]
  },
  {
   "cell_type": "code",
   "execution_count": 2,
   "metadata": {},
   "outputs": [],
   "source": [
    "def scaleFeatures(df):\n",
    "    scaled = preprocessing.StandardScaler().fit_transform(df)\n",
    "    scaled = pd.DataFrame(scaled, columns=df.columns)\n",
    "    print (\"New Variances:\\n\", scaled.var())\n",
    "    print (\"New Describe:\\n\", scaled.describe())\n",
    "    return scaled"
   ]
  },
  {
   "cell_type": "markdown",
   "metadata": {},
   "source": [
    "The funtion below will project the original features onto the principal component feature-space."
   ]
  },
  {
   "cell_type": "code",
   "execution_count": 3,
   "metadata": {},
   "outputs": [],
   "source": [
    "def drawVectors(transformed_features, components_, columns, plt, scaled):\n",
    "    if not scaled:\n",
    "        return plt.axes()\n",
    "\n",
    "    num_columns = len(columns)\n",
    "\n",
    "    # Scaling the principal components by the max value in\n",
    "    # the transformed set belonging to that component\n",
    "    xvector = components_[0] * max(transformed_features[:,0])\n",
    "    yvector = components_[1] * max(transformed_features[:,1])\n",
    "\n",
    "    #\n",
    "    # Visualizing projections\n",
    "    # Sorting each column by it's length. These are the original\n",
    "    # columns, not the principal components.\n",
    "    important_features = { columns[i] : math.sqrt(xvector[i]**2 + yvector[i]**2) for i in range(num_columns) }\n",
    "    important_features = sorted(zip(important_features.values(), important_features.keys()), reverse=True)\n",
    "    print (\"Features by importance:\\n\", important_features)\n",
    "\n",
    "    ax = plt.axes()\n",
    "\n",
    "    for i in range(num_columns):\n",
    "        # We use an arrow to project each original feature as a\n",
    "        # labeled vector on the principal component axes\n",
    "        plt.arrow(0, 0, xvector[i], yvector[i], color='b', width=0.0005, head_width=0.02, alpha=0.75)\n",
    "        plt.text(xvector[i]*1.2, yvector[i]*1.2, list(columns)[i], color='b', alpha=0.75)\n",
    "\n",
    "    return ax"
   ]
  },
  {
   "cell_type": "code",
   "execution_count": 4,
   "metadata": {},
   "outputs": [],
   "source": [
    "scaleFeatures_values = True"
   ]
  },
  {
   "cell_type": "code",
   "execution_count": 5,
   "metadata": {},
   "outputs": [
    {
     "name": "stdout",
     "output_type": "stream",
     "text": [
      "   id   age    bp    sg   al   su  rbc      pc         pcc          ba  \\\n",
      "0   0  48.0  80.0  1.02  1.0  0.0  NaN  normal  notpresent  notpresent   \n",
      "1   1   7.0  50.0  1.02  4.0  0.0  NaN  normal  notpresent  notpresent   \n",
      "\n",
      "       ...        pcv    wc   rc  htn   dm  cad appet  pe ane classification  \n",
      "0      ...         44  7800  5.2  yes  yes   no  good  no  no            ckd  \n",
      "1      ...         38  6000  NaN   no   no   no  good  no  no            ckd  \n",
      "\n",
      "[2 rows x 26 columns]\n"
     ]
    }
   ],
   "source": [
    "# Loading up the dataset \n",
    "df = pd.read_csv(\"Datasets\\\\kidney_disease.csv\", sep=',', header= 0)\n",
    "print(df.head(2))"
   ]
  },
  {
   "cell_type": "markdown",
   "metadata": {},
   "source": [
    "With every dataset, the first thing one should do is find out as much about it as possible, both by reading up on any metadata, as well as by prodding through the actual data.\n",
    "\n",
    "Let us now explore the variables in the dataset and understand their distribution and data types."
   ]
  },
  {
   "cell_type": "code",
   "execution_count": 6,
   "metadata": {},
   "outputs": [
    {
     "name": "stdout",
     "output_type": "stream",
     "text": [
      "               id         age          bp          sg          al          su  \\\n",
      "count  400.000000  391.000000  388.000000  353.000000  354.000000  351.000000   \n",
      "mean   199.500000   51.483376   76.469072    1.017408    1.016949    0.450142   \n",
      "std    115.614301   17.169714   13.683637    0.005717    1.352679    1.099191   \n",
      "min      0.000000    2.000000   50.000000    1.005000    0.000000    0.000000   \n",
      "25%     99.750000   42.000000   70.000000    1.010000    0.000000    0.000000   \n",
      "50%    199.500000   55.000000   80.000000    1.020000    0.000000    0.000000   \n",
      "75%    299.250000   64.500000   80.000000    1.020000    2.000000    0.000000   \n",
      "max    399.000000   90.000000  180.000000    1.025000    5.000000    5.000000   \n",
      "\n",
      "              bgr          bu          sc         sod         pot        hemo  \n",
      "count  356.000000  381.000000  383.000000  313.000000  312.000000  348.000000  \n",
      "mean   148.036517   57.425722    3.072454  137.528754    4.627244   12.526437  \n",
      "std     79.281714   50.503006    5.741126   10.408752    3.193904    2.912587  \n",
      "min     22.000000    1.500000    0.400000    4.500000    2.500000    3.100000  \n",
      "25%     99.000000   27.000000    0.900000  135.000000    3.800000   10.300000  \n",
      "50%    121.000000   42.000000    1.300000  138.000000    4.400000   12.650000  \n",
      "75%    163.000000   66.000000    2.800000  142.000000    4.900000   15.000000  \n",
      "max    490.000000  391.000000   76.000000  163.000000   47.000000   17.800000  \n"
     ]
    }
   ],
   "source": [
    "# Exploring the numerical data\n",
    "print(df.describe())"
   ]
  },
  {
   "cell_type": "code",
   "execution_count": 7,
   "metadata": {},
   "outputs": [
    {
     "name": "stdout",
     "output_type": "stream",
     "text": [
      "           rbc      pc         pcc          ba  pcv    wc   rc  htn   dm  cad  \\\n",
      "count      248     335         396         396  330   295  270  398  398  398   \n",
      "unique       2       2           2           2   44    92   49    2    5    3   \n",
      "top     normal  normal  notpresent  notpresent   52  9800  5.2   no   no   no   \n",
      "freq       201     259         354         374   21    11   18  251  258  362   \n",
      "\n",
      "       appet   pe  ane classification  \n",
      "count    399  399  399            400  \n",
      "unique     2    2    2              3  \n",
      "top     good   no   no            ckd  \n",
      "freq     317  323  339            248  \n"
     ]
    }
   ],
   "source": [
    "# Exploring the categorical data\n",
    "print(df.describe(include=['O']))"
   ]
  },
  {
   "cell_type": "code",
   "execution_count": 8,
   "metadata": {},
   "outputs": [
    {
     "name": "stdout",
     "output_type": "stream",
     "text": [
      "id                  int64\n",
      "age               float64\n",
      "bp                float64\n",
      "sg                float64\n",
      "al                float64\n",
      "su                float64\n",
      "rbc                object\n",
      "pc                 object\n",
      "pcc                object\n",
      "ba                 object\n",
      "bgr               float64\n",
      "bu                float64\n",
      "sc                float64\n",
      "sod               float64\n",
      "pot               float64\n",
      "hemo              float64\n",
      "pcv                object\n",
      "wc                 object\n",
      "rc                 object\n",
      "htn                object\n",
      "dm                 object\n",
      "cad                object\n",
      "appet              object\n",
      "pe                 object\n",
      "ane                object\n",
      "classification     object\n",
      "dtype: object\n"
     ]
    }
   ],
   "source": [
    "# Checking the data types\n",
    "print(df.dtypes)"
   ]
  },
  {
   "cell_type": "markdown",
   "metadata": {},
   "source": [
    "We observe that all the variables except id and classification have missing values in them. There are different ways to treat missing values depending upon whether it belongs to a numerical variable category or a cetegorical variable category. Over here, we will drop all the rows that have any nans."
   ]
  },
  {
   "cell_type": "code",
   "execution_count": 9,
   "metadata": {},
   "outputs": [],
   "source": [
    "# Dropping all the nans\n",
    "df = df.dropna(axis = 0)"
   ]
  },
  {
   "cell_type": "markdown",
   "metadata": {},
   "source": [
    "Before moving ahead, let us quickly go through our data again and check the number of oberservations left, the data types of each variable etc."
   ]
  },
  {
   "cell_type": "code",
   "execution_count": 10,
   "metadata": {},
   "outputs": [
    {
     "name": "stdout",
     "output_type": "stream",
     "text": [
      "               id         age          bp          sg          al          su  \\\n",
      "count  158.000000  158.000000  158.000000  158.000000  158.000000  158.000000   \n",
      "mean   274.841772   49.563291   74.050633    1.019873    0.797468    0.253165   \n",
      "std    102.998517   15.512244   11.175381    0.005499    1.413130    0.813397   \n",
      "min      3.000000    6.000000   50.000000    1.005000    0.000000    0.000000   \n",
      "25%    243.000000   39.250000   60.000000    1.020000    0.000000    0.000000   \n",
      "50%    298.500000   50.500000   80.000000    1.020000    0.000000    0.000000   \n",
      "75%    355.750000   60.000000   80.000000    1.025000    1.000000    0.000000   \n",
      "max    399.000000   83.000000  110.000000    1.025000    4.000000    5.000000   \n",
      "\n",
      "              bgr          bu          sc         sod         pot        hemo  \n",
      "count  158.000000  158.000000  158.000000  158.000000  158.000000  158.000000  \n",
      "mean   131.341772   52.575949    2.188608  138.848101    4.636709   13.687342  \n",
      "std     64.939832   47.395382    3.077615    7.489421    3.476351    2.882204  \n",
      "min     70.000000   10.000000    0.400000  111.000000    2.500000    3.100000  \n",
      "25%     97.000000   26.000000    0.700000  135.000000    3.700000   12.600000  \n",
      "50%    115.500000   39.500000    1.100000  139.000000    4.500000   14.250000  \n",
      "75%    131.750000   49.750000    1.600000  144.000000    4.900000   15.775000  \n",
      "max    490.000000  309.000000   15.200000  150.000000   47.000000   17.800000  \n"
     ]
    }
   ],
   "source": [
    "# Exploring the numerical data\n",
    "print(df.describe())"
   ]
  },
  {
   "cell_type": "code",
   "execution_count": 11,
   "metadata": {},
   "outputs": [
    {
     "name": "stdout",
     "output_type": "stream",
     "text": [
      "           rbc      pc         pcc          ba  pcv    wc   rc  htn   dm  cad  \\\n",
      "count      158     158         158         158  158   158  158  158  158  158   \n",
      "unique       2       2           2           2   34    71   41    2    2    2   \n",
      "top     normal  normal  notpresent  notpresent   52  6700  4.5   no   no   no   \n",
      "freq       140     129         144         146   15     7   12  124  130  147   \n",
      "\n",
      "       appet   pe  ane classification  \n",
      "count    158  158  158            158  \n",
      "unique     2    2    2              2  \n",
      "top     good   no   no         notckd  \n",
      "freq     139  138  142            115  \n"
     ]
    }
   ],
   "source": [
    "# Exploring the categorical data\n",
    "print(df.describe(include=['O']))"
   ]
  },
  {
   "cell_type": "code",
   "execution_count": 12,
   "metadata": {},
   "outputs": [
    {
     "name": "stdout",
     "output_type": "stream",
     "text": [
      "id                  int64\n",
      "age               float64\n",
      "bp                float64\n",
      "sg                float64\n",
      "al                float64\n",
      "su                float64\n",
      "rbc                object\n",
      "pc                 object\n",
      "pcc                object\n",
      "ba                 object\n",
      "bgr               float64\n",
      "bu                float64\n",
      "sc                float64\n",
      "sod               float64\n",
      "pot               float64\n",
      "hemo              float64\n",
      "pcv                object\n",
      "wc                 object\n",
      "rc                 object\n",
      "htn                object\n",
      "dm                 object\n",
      "cad                object\n",
      "appet              object\n",
      "pe                 object\n",
      "ane                object\n",
      "classification     object\n",
      "dtype: object\n"
     ]
    }
   ],
   "source": [
    "# Checking the data types\n",
    "print(df.dtypes)"
   ]
  },
  {
   "cell_type": "code",
   "execution_count": 13,
   "metadata": {},
   "outputs": [],
   "source": [
    "# Creating color coded labels since the actual label feature\n",
    "# will be removed prior to executing PCA\n",
    "labels = ['red' if i=='ckd' else 'green' for i in df.classification]"
   ]
  },
  {
   "cell_type": "markdown",
   "metadata": {},
   "source": [
    "Now, we will drop all the nominal features.\n",
    "Also we will check the dtypes of our dataframe. Anything that didn't make it to the right type, we will investigate by looking through the data and identifying why the conversion failed. These types of problems often arise when we aren't in control of how the data is organized."
   ]
  },
  {
   "cell_type": "code",
   "execution_count": 14,
   "metadata": {},
   "outputs": [
    {
     "name": "stdout",
     "output_type": "stream",
     "text": [
      "    age    bp     sg   al   su    bgr     bu   sc    sod  pot  hemo pcv  \\\n",
      "3  48.0  70.0  1.005  4.0  0.0  117.0   56.0  3.8  111.0  2.5  11.2  32   \n",
      "9  53.0  90.0  1.020  2.0  0.0   70.0  107.0  7.2  114.0  3.7   9.5  29   \n",
      "\n",
      "      wc   rc  \n",
      "3   6700  3.9  \n",
      "9  12100  3.7  \n"
     ]
    }
   ],
   "source": [
    "# Dropping all the nominal features listed:\n",
    "#       ['id', 'classification', 'rbc', 'pc', 'pcc', 'ba', 'htn', 'dm', 'cad', 'appet', 'pe', 'ane']\n",
    "#\n",
    "df = df.drop(labels = ['id','classification', 'rbc', 'pc', 'pcc', 'ba', 'htn', 'dm', 'cad', 'appet', 'pe', 'ane'], axis=1)\n",
    "print(df.head(2))"
   ]
  },
  {
   "cell_type": "code",
   "execution_count": 15,
   "metadata": {},
   "outputs": [
    {
     "name": "stdout",
     "output_type": "stream",
     "text": [
      "age     float64\n",
      "bp      float64\n",
      "sg      float64\n",
      "al      float64\n",
      "su      float64\n",
      "bgr     float64\n",
      "bu      float64\n",
      "sc      float64\n",
      "sod     float64\n",
      "pot     float64\n",
      "hemo    float64\n",
      "pcv       int64\n",
      "wc        int64\n",
      "rc      float64\n",
      "dtype: object\n"
     ]
    }
   ],
   "source": [
    "# Printing out and checking the dataframe's dtypes. \n",
    "df = df.apply(pd.to_numeric, args=('coerce',))\n",
    "print(df.dtypes)"
   ]
  },
  {
   "cell_type": "code",
   "execution_count": 16,
   "metadata": {},
   "outputs": [
    {
     "name": "stdout",
     "output_type": "stream",
     "text": [
      "age     2.406297e+02\n",
      "bp      1.248891e+02\n",
      "sg      3.023865e-05\n",
      "al      1.996936e+00\n",
      "su      6.616141e-01\n",
      "bgr     4.217182e+03\n",
      "bu      2.246322e+03\n",
      "sc      9.471717e+00\n",
      "sod     5.609143e+01\n",
      "pot     1.208501e+01\n",
      "hemo    8.307100e+00\n",
      "pcv     8.290402e+01\n",
      "wc      9.777380e+06\n",
      "rc      1.039104e+00\n",
      "dtype: float64\n",
      "              age          bp          sg          al          su         bgr  \\\n",
      "count  158.000000  158.000000  158.000000  158.000000  158.000000  158.000000   \n",
      "mean    49.563291   74.050633    1.019873    0.797468    0.253165  131.341772   \n",
      "std     15.512244   11.175381    0.005499    1.413130    0.813397   64.939832   \n",
      "min      6.000000   50.000000    1.005000    0.000000    0.000000   70.000000   \n",
      "25%     39.250000   60.000000    1.020000    0.000000    0.000000   97.000000   \n",
      "50%     50.500000   80.000000    1.020000    0.000000    0.000000  115.500000   \n",
      "75%     60.000000   80.000000    1.025000    1.000000    0.000000  131.750000   \n",
      "max     83.000000  110.000000    1.025000    4.000000    5.000000  490.000000   \n",
      "\n",
      "               bu          sc         sod         pot        hemo         pcv  \\\n",
      "count  158.000000  158.000000  158.000000  158.000000  158.000000  158.000000   \n",
      "mean    52.575949    2.188608  138.848101    4.636709   13.687342   41.917722   \n",
      "std     47.395382    3.077615    7.489421    3.476351    2.882204    9.105164   \n",
      "min     10.000000    0.400000  111.000000    2.500000    3.100000    9.000000   \n",
      "25%     26.000000    0.700000  135.000000    3.700000   12.600000   37.500000   \n",
      "50%     39.500000    1.100000  139.000000    4.500000   14.250000   44.000000   \n",
      "75%     49.750000    1.600000  144.000000    4.900000   15.775000   48.000000   \n",
      "max    309.000000   15.200000  150.000000   47.000000   17.800000   54.000000   \n",
      "\n",
      "                 wc          rc  \n",
      "count    158.000000  158.000000  \n",
      "mean    8475.949367    4.891772  \n",
      "std     3126.880181    1.019364  \n",
      "min     3800.000000    2.100000  \n",
      "25%     6525.000000    4.500000  \n",
      "50%     7800.000000    4.950000  \n",
      "75%     9775.000000    5.600000  \n",
      "max    26400.000000    8.000000  \n"
     ]
    }
   ],
   "source": [
    "# Checking the mean, variance etc of the variables in the dataset\n",
    "print(df.var(axis=0))\n",
    "\n",
    "print(df.describe())"
   ]
  },
  {
   "cell_type": "code",
   "execution_count": 17,
   "metadata": {},
   "outputs": [
    {
     "name": "stdout",
     "output_type": "stream",
     "text": [
      "Scaling Features\n",
      "\n",
      "New Variances:\n",
      " age     1.006369\n",
      "bp      1.006369\n",
      "sg      1.006369\n",
      "al      1.006369\n",
      "su      1.006369\n",
      "bgr     1.006369\n",
      "bu      1.006369\n",
      "sc      1.006369\n",
      "sod     1.006369\n",
      "pot     1.006369\n",
      "hemo    1.006369\n",
      "pcv     1.006369\n",
      "wc      1.006369\n",
      "rc      1.006369\n",
      "dtype: float64\n",
      "New Describe:\n",
      "                 age            bp            sg            al            su  \\\n",
      "count  1.580000e+02  1.580000e+02  1.580000e+02  1.580000e+02  1.580000e+02   \n",
      "mean   8.432074e-17  5.846238e-16 -1.304161e-15 -1.349132e-16 -2.248553e-17   \n",
      "std    1.003180e+00  1.003180e+00  1.003180e+00  1.003180e+00  1.003180e+00   \n",
      "min   -2.817246e+00 -2.158952e+00 -2.713365e+00 -5.661221e-01 -3.122333e-01   \n",
      "25%   -6.669624e-01 -1.261282e+00  2.309247e-02 -5.661221e-01 -3.122333e-01   \n",
      "50%    6.057713e-02  5.340564e-01  2.309247e-02 -5.661221e-01 -3.122333e-01   \n",
      "75%    6.749439e-01  5.340564e-01  9.352451e-01  1.437770e-01 -3.122333e-01   \n",
      "max    2.162358e+00  3.227064e+00  9.352451e-01  2.273474e+00  5.854375e+00   \n",
      "\n",
      "                bgr            bu          sc           sod           pot  \\\n",
      "count  1.580000e+02  1.580000e+02  158.000000  1.580000e+02  1.580000e+02   \n",
      "mean  -4.497106e-17  8.994212e-17    0.000000  9.893633e-16  5.621382e-17   \n",
      "std    1.003180e+00  1.003180e+00    1.003180  1.003180e+00  1.003180e+00   \n",
      "min   -9.475974e-01 -9.011706e-01   -0.583015 -3.730148e+00 -6.165957e-01   \n",
      "25%   -5.305059e-01 -5.625116e-01   -0.485227 -5.154386e-01 -2.703085e-01   \n",
      "50%   -2.447210e-01 -2.767680e-01   -0.354843  2.034626e-02 -3.945044e-02   \n",
      "75%    6.306235e-03 -5.981458e-02   -0.191863  6.900774e-01  7.597862e-02   \n",
      "max    5.540492e+00  5.427520e+00    4.241194  1.493755e+00  1.222489e+01   \n",
      "\n",
      "               hemo           pcv            wc            rc  \n",
      "count  1.580000e+02  1.580000e+02  1.580000e+02  1.580000e+02  \n",
      "mean   2.698264e-16 -4.497106e-17 -4.497106e-17  1.349132e-16  \n",
      "std    1.003180e+00  1.003180e+00  1.003180e+00  1.003180e+00  \n",
      "min   -3.685029e+00 -3.626776e+00 -1.500159e+00 -2.747446e+00  \n",
      "25%   -3.784601e-01 -4.867313e-01 -6.259123e-01 -3.855519e-01  \n",
      "50%    1.958388e-01  2.294192e-01 -2.168611e-01  5.730335e-02  \n",
      "75%    7.266301e-01  6.701272e-01  4.167672e-01  6.969831e-01  \n",
      "max    1.431451e+00  1.331189e+00  5.750474e+00  3.058878e+00  \n"
     ]
    }
   ],
   "source": [
    "if scaleFeatures_values: \n",
    "    print(\"Scaling Features\\n\")\n",
    "    df = scaleFeatures(df)"
   ]
  },
  {
   "cell_type": "code",
   "execution_count": 18,
   "metadata": {
    "scrolled": true
   },
   "outputs": [
    {
     "name": "stdout",
     "output_type": "stream",
     "text": [
      "Features by importance:\n",
      " [(3.433627889616098, 'bgr'), (3.233806932188043, 'sc'), (3.1862889655585116, 'bu'), (3.122621524086641, 'su'), (3.075602903569439, 'pcv'), (3.062948518962917, 'hemo'), (3.0025923956364466, 'al'), (2.799046889173657, 'sg'), (2.7327769657650514, 'rc'), (2.4238681788081005, 'sod'), (2.2365062694669016, 'age'), (2.14705830374744, 'wc'), (1.7017683320956647, 'bp'), (1.0563823537406867, 'pot')]\n"
     ]
    },
    {
     "data": {
      "image/png": "[encoded data removed]",
      "text/plain": [
       "<Figure size 432x288 with 1 Axes>"
      ]
     },
     "metadata": {},
     "output_type": "display_data"
    }
   ],
   "source": [
    "# Running PCA on the dataset and reducing it to 2 components\n",
    "pca = PCA(n_components = 2)\n",
    "pca.fit(df)\n",
    "T = pca.transform(df)\n",
    "\n",
    "\n",
    "# Converting to a Pandas Dataframe.\n",
    "# Note: Since we transformed via PCA, we no longer have column names.\n",
    "ax = drawVectors(T, pca.components_, df.columns.values, plt, scaleFeatures_values)\n",
    "T = pd.DataFrame(T)\n",
    "T.columns = ['component1', 'component2']\n",
    "T.plot.scatter(x='component1', y='component2', marker='o', c=labels, alpha=0.75, ax=ax)\n",
    "plt.show()"
   ]
  }
 ],
 "metadata": {
  "kernelspec": {
   "display_name": "Python 3",
   "language": "python",
   "name": "python3"
  },
  "language_info": {
   "codemirror_mode": {
    "name": "ipython",
    "version": 3
   },
   "file_extension": ".py",
   "mimetype": "text/x-python",
   "name": "python",
   "nbconvert_exporter": "python",
   "pygments_lexer": "ipython3",
   "version": "3.6.6"
  }
 },
 "nbformat": 4,
 "nbformat_minor": 2
}
