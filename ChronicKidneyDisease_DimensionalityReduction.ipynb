{
 "cells": [
  {
   "cell_type": "markdown",
   "metadata": {},
   "source": [
    "In this lab, we are going to experiment with a subset of UCI's Chronic Kidney Disease data set, a collection of samples taken from patients in India over a two month period, some of whom were in the early stages of the disease.\n",
    "\n",
    "We will carry this analysis with the three main variables in the dataset."
   ]
  },
  {
   "cell_type": "code",
   "execution_count": 1,
   "metadata": {},
   "outputs": [],
   "source": [
    "import pandas as pd\n",
    "import matplotlib.pyplot as plt\n",
    "import matplotlib\n",
    "import os\n",
    "from sklearn.decomposition import PCA\n",
    "import math\n",
    "import pandas as pd\n",
    "from sklearn import preprocessing\n",
    "\n",
    "# Look pretty...\n",
    "plt.style.use('ggplot')\n",
    "\n",
    "scaleFeatures_value = True"
   ]
  },
  {
   "cell_type": "markdown",
   "metadata": {},
   "source": [
    "PCA requires data to be standardized -- in other words it's mean should be equal to 0, and it should have unit variance. Feature scaling is the type of transformation that only changes the scale and not number of features, so we'll use the original dataset column names. Below is a function to help us perform feature scaling."
   ]
  },
  {
   "cell_type": "code",
   "execution_count": 2,
   "metadata": {},
   "outputs": [],
   "source": [
    "def scaleFeatures(df):\n",
    "    scaled = preprocessing.StandardScaler().fit_transform(df)\n",
    "    scaled = pd.DataFrame(scaled, columns=df.columns)\n",
    "    print (\"New Variances:\\n\", scaled.var())\n",
    "    print (\"New Describe:\\n\", scaled.describe())\n",
    "    return scaled"
   ]
  },
  {
   "cell_type": "markdown",
   "metadata": {},
   "source": [
    "The funtion below will project the original features onto the principal component feature-space."
   ]
  },
  {
   "cell_type": "code",
   "execution_count": 3,
   "metadata": {},
   "outputs": [],
   "source": [
    "def drawVectors(transformed_features, components_, columns, plt, scaled):\n",
    "    if not scaled:\n",
    "        return plt.axes()\n",
    "\n",
    "    num_columns = len(columns)\n",
    "\n",
    "    # Scaling the principal components by the max value in\n",
    "    # the transformed set belonging to that component\n",
    "    xvector = components_[0] * max(transformed_features[:,0])\n",
    "    yvector = components_[1] * max(transformed_features[:,1])\n",
    "\n",
    "    #\n",
    "    # Visualizing projections\n",
    "    # Sorting each column by it's length. These are the original\n",
    "    # columns, not the principal components.\n",
    "    important_features = { columns[i] : math.sqrt(xvector[i]**2 + yvector[i]**2) for i in range(num_columns) }\n",
    "    important_features = sorted(zip(important_features.values(), important_features.keys()), reverse=True)\n",
    "    print (\"Features by importance:\\n\", important_features)\n",
    "\n",
    "    ax = plt.axes()\n",
    "\n",
    "    for i in range(num_columns):\n",
    "        # We use an arrow to project each original feature as a\n",
    "        # labeled vector on the principal component axes\n",
    "        plt.arrow(0, 0, xvector[i], yvector[i], color='b', width=0.0005, head_width=0.02, alpha=0.75)\n",
    "        plt.text(xvector[i]*1.2, yvector[i]*1.2, list(columns)[i], color='b', alpha=0.75)\n",
    "\n",
    "    return ax"
   ]
  },
  {
   "cell_type": "code",
   "execution_count": 4,
   "metadata": {},
   "outputs": [
    {
     "name": "stdout",
     "output_type": "stream",
     "text": [
      "   id   age    bp    sg   al   su  rbc      pc         pcc          ba  \\\n",
      "0   0  48.0  80.0  1.02  1.0  0.0  NaN  normal  notpresent  notpresent   \n",
      "1   1   7.0  50.0  1.02  4.0  0.0  NaN  normal  notpresent  notpresent   \n",
      "\n",
      "       ...        pcv    wc   rc  htn   dm  cad appet  pe ane classification  \n",
      "0      ...         44  7800  5.2  yes  yes   no  good  no  no            ckd  \n",
      "1      ...         38  6000  NaN   no   no   no  good  no  no            ckd  \n",
      "\n",
      "[2 rows x 26 columns]\n"
     ]
    }
   ],
   "source": [
    "# Loading up the dataset \n",
    "df = pd.read_csv(\"Datasets\\\\kidney_disease.csv\", sep=',', header= 0)\n",
    "print(df.head(2))"
   ]
  },
  {
   "cell_type": "markdown",
   "metadata": {},
   "source": [
    "With every dataset, the first thing one should do is find out as much about it as possible, both by reading up on any metadata, as well as by prodding through the actual data. Particularly, pay attention to what the docs say about these three variables: bgr, rc, and wc.\n",
    "\n",
    "Let us now explore the variables in the dataset and understand their distribution and data types."
   ]
  },
  {
   "cell_type": "code",
   "execution_count": 5,
   "metadata": {},
   "outputs": [
    {
     "name": "stdout",
     "output_type": "stream",
     "text": [
      "               id         age          bp          sg          al          su  \\\n",
      "count  400.000000  391.000000  388.000000  353.000000  354.000000  351.000000   \n",
      "mean   199.500000   51.483376   76.469072    1.017408    1.016949    0.450142   \n",
      "std    115.614301   17.169714   13.683637    0.005717    1.352679    1.099191   \n",
      "min      0.000000    2.000000   50.000000    1.005000    0.000000    0.000000   \n",
      "25%     99.750000   42.000000   70.000000    1.010000    0.000000    0.000000   \n",
      "50%    199.500000   55.000000   80.000000    1.020000    0.000000    0.000000   \n",
      "75%    299.250000   64.500000   80.000000    1.020000    2.000000    0.000000   \n",
      "max    399.000000   90.000000  180.000000    1.025000    5.000000    5.000000   \n",
      "\n",
      "              bgr          bu          sc         sod         pot        hemo  \n",
      "count  356.000000  381.000000  383.000000  313.000000  312.000000  348.000000  \n",
      "mean   148.036517   57.425722    3.072454  137.528754    4.627244   12.526437  \n",
      "std     79.281714   50.503006    5.741126   10.408752    3.193904    2.912587  \n",
      "min     22.000000    1.500000    0.400000    4.500000    2.500000    3.100000  \n",
      "25%     99.000000   27.000000    0.900000  135.000000    3.800000   10.300000  \n",
      "50%    121.000000   42.000000    1.300000  138.000000    4.400000   12.650000  \n",
      "75%    163.000000   66.000000    2.800000  142.000000    4.900000   15.000000  \n",
      "max    490.000000  391.000000   76.000000  163.000000   47.000000   17.800000  \n"
     ]
    }
   ],
   "source": [
    "# Exploring the numerical data\n",
    "print(df.describe())"
   ]
  },
  {
   "cell_type": "code",
   "execution_count": 6,
   "metadata": {},
   "outputs": [
    {
     "name": "stdout",
     "output_type": "stream",
     "text": [
      "           rbc      pc         pcc          ba  pcv    wc   rc  htn   dm  cad  \\\n",
      "count      248     335         396         396  330   295  270  398  398  398   \n",
      "unique       2       2           2           2   44    92   49    2    5    3   \n",
      "top     normal  normal  notpresent  notpresent   52  9800  5.2   no   no   no   \n",
      "freq       201     259         354         374   21    11   18  251  258  362   \n",
      "\n",
      "       appet   pe  ane classification  \n",
      "count    399  399  399            400  \n",
      "unique     2    2    2              3  \n",
      "top     good   no   no            ckd  \n",
      "freq     317  323  339            248  \n"
     ]
    }
   ],
   "source": [
    "# Exploring the categorical data\n",
    "print(df.describe(include=['O']))"
   ]
  },
  {
   "cell_type": "code",
   "execution_count": 7,
   "metadata": {},
   "outputs": [
    {
     "name": "stdout",
     "output_type": "stream",
     "text": [
      "id                  int64\n",
      "age               float64\n",
      "bp                float64\n",
      "sg                float64\n",
      "al                float64\n",
      "su                float64\n",
      "rbc                object\n",
      "pc                 object\n",
      "pcc                object\n",
      "ba                 object\n",
      "bgr               float64\n",
      "bu                float64\n",
      "sc                float64\n",
      "sod               float64\n",
      "pot               float64\n",
      "hemo              float64\n",
      "pcv                object\n",
      "wc                 object\n",
      "rc                 object\n",
      "htn                object\n",
      "dm                 object\n",
      "cad                object\n",
      "appet              object\n",
      "pe                 object\n",
      "ane                object\n",
      "classification     object\n",
      "dtype: object\n"
     ]
    }
   ],
   "source": [
    "# Checking the data types\n",
    "print(df.dtypes)"
   ]
  },
  {
   "cell_type": "markdown",
   "metadata": {},
   "source": [
    "We observe that all the variables except id and classification have missing values in them. There are different ways to treat missing values depending upon whether it belongs to a numerical variable category or a cetegorical variable category. Over here, we will drop all the rows that have any nans."
   ]
  },
  {
   "cell_type": "code",
   "execution_count": 8,
   "metadata": {},
   "outputs": [],
   "source": [
    "# Dropping all the nans\n",
    "df = df.dropna(axis = 0)"
   ]
  },
  {
   "cell_type": "markdown",
   "metadata": {},
   "source": [
    "Before moving ahead, let us quickly go through our data again and check the number of oberservations left, the data types of each variable etc."
   ]
  },
  {
   "cell_type": "code",
   "execution_count": 9,
   "metadata": {},
   "outputs": [
    {
     "name": "stdout",
     "output_type": "stream",
     "text": [
      "               id         age          bp          sg          al          su  \\\n",
      "count  158.000000  158.000000  158.000000  158.000000  158.000000  158.000000   \n",
      "mean   274.841772   49.563291   74.050633    1.019873    0.797468    0.253165   \n",
      "std    102.998517   15.512244   11.175381    0.005499    1.413130    0.813397   \n",
      "min      3.000000    6.000000   50.000000    1.005000    0.000000    0.000000   \n",
      "25%    243.000000   39.250000   60.000000    1.020000    0.000000    0.000000   \n",
      "50%    298.500000   50.500000   80.000000    1.020000    0.000000    0.000000   \n",
      "75%    355.750000   60.000000   80.000000    1.025000    1.000000    0.000000   \n",
      "max    399.000000   83.000000  110.000000    1.025000    4.000000    5.000000   \n",
      "\n",
      "              bgr          bu          sc         sod         pot        hemo  \n",
      "count  158.000000  158.000000  158.000000  158.000000  158.000000  158.000000  \n",
      "mean   131.341772   52.575949    2.188608  138.848101    4.636709   13.687342  \n",
      "std     64.939832   47.395382    3.077615    7.489421    3.476351    2.882204  \n",
      "min     70.000000   10.000000    0.400000  111.000000    2.500000    3.100000  \n",
      "25%     97.000000   26.000000    0.700000  135.000000    3.700000   12.600000  \n",
      "50%    115.500000   39.500000    1.100000  139.000000    4.500000   14.250000  \n",
      "75%    131.750000   49.750000    1.600000  144.000000    4.900000   15.775000  \n",
      "max    490.000000  309.000000   15.200000  150.000000   47.000000   17.800000  \n"
     ]
    }
   ],
   "source": [
    "# Exploring the numerical data\n",
    "print(df.describe())"
   ]
  },
  {
   "cell_type": "code",
   "execution_count": 10,
   "metadata": {},
   "outputs": [
    {
     "name": "stdout",
     "output_type": "stream",
     "text": [
      "           rbc      pc         pcc          ba  pcv    wc   rc  htn   dm  cad  \\\n",
      "count      158     158         158         158  158   158  158  158  158  158   \n",
      "unique       2       2           2           2   34    71   41    2    2    2   \n",
      "top     normal  normal  notpresent  notpresent   52  7200  4.5   no   no   no   \n",
      "freq       140     129         144         146   15     7   12  124  130  147   \n",
      "\n",
      "       appet   pe  ane classification  \n",
      "count    158  158  158            158  \n",
      "unique     2    2    2              2  \n",
      "top     good   no   no         notckd  \n",
      "freq     139  138  142            115  \n"
     ]
    }
   ],
   "source": [
    "# Exploring the categorical data\n",
    "print(df.describe(include=['O']))"
   ]
  },
  {
   "cell_type": "code",
   "execution_count": 11,
   "metadata": {},
   "outputs": [
    {
     "name": "stdout",
     "output_type": "stream",
     "text": [
      "id                  int64\n",
      "age               float64\n",
      "bp                float64\n",
      "sg                float64\n",
      "al                float64\n",
      "su                float64\n",
      "rbc                object\n",
      "pc                 object\n",
      "pcc                object\n",
      "ba                 object\n",
      "bgr               float64\n",
      "bu                float64\n",
      "sc                float64\n",
      "sod               float64\n",
      "pot               float64\n",
      "hemo              float64\n",
      "pcv                object\n",
      "wc                 object\n",
      "rc                 object\n",
      "htn                object\n",
      "dm                 object\n",
      "cad                object\n",
      "appet              object\n",
      "pe                 object\n",
      "ane                object\n",
      "classification     object\n",
      "dtype: object\n"
     ]
    }
   ],
   "source": [
    "# Checking the data types\n",
    "print(df.dtypes)"
   ]
  },
  {
   "cell_type": "code",
   "execution_count": 12,
   "metadata": {},
   "outputs": [],
   "source": [
    "# Creating color coded labels since the actual label feature\n",
    "# will be removed prior to executing PCA\n",
    "labels = ['red' if i=='ckd' else 'green' for i in df.classification]"
   ]
  },
  {
   "cell_type": "markdown",
   "metadata": {},
   "source": [
    "Now, using an appropriate indexer command we will select only the following columns: bgr, rc, and wc\n",
    "\n",
    "Also we will check the dtypes of our dataframe. Anything that didn't make it to the right type, we will investigate by looking through the data and identifying why the conversion failed. These types of problems often arise when we aren't in control of how the data is organized."
   ]
  },
  {
   "cell_type": "code",
   "execution_count": 13,
   "metadata": {},
   "outputs": [
    {
     "name": "stdout",
     "output_type": "stream",
     "text": [
      "bgr    float64\n",
      "wc      object\n",
      "rc      object\n",
      "dtype: object\n"
     ]
    }
   ],
   "source": [
    "# Indexing to select columns\n",
    "mdf = df.loc[:,['bgr','wc','rc']]\n",
    "print(mdf.dtypes)"
   ]
  },
  {
   "cell_type": "code",
   "execution_count": 14,
   "metadata": {},
   "outputs": [
    {
     "name": "stdout",
     "output_type": "stream",
     "text": [
      "bgr    float64\n",
      "wc       int64\n",
      "rc     float64\n",
      "dtype: object\n"
     ]
    }
   ],
   "source": [
    "# Printing out and checking the dataframe's dtypes. \n",
    "mdf = mdf.apply(pd.to_numeric, args=('coerce',))\n",
    "print(mdf.dtypes)"
   ]
  },
  {
   "cell_type": "code",
   "execution_count": 15,
   "metadata": {},
   "outputs": [
    {
     "name": "stdout",
     "output_type": "stream",
     "text": [
      "bgr    4.217182e+03\n",
      "wc     9.777380e+06\n",
      "rc     1.039104e+00\n",
      "dtype: float64\n",
      "              bgr            wc          rc\n",
      "count  158.000000    158.000000  158.000000\n",
      "mean   131.341772   8475.949367    4.891772\n",
      "std     64.939832   3126.880181    1.019364\n",
      "min     70.000000   3800.000000    2.100000\n",
      "25%     97.000000   6525.000000    4.500000\n",
      "50%    115.500000   7800.000000    4.950000\n",
      "75%    131.750000   9775.000000    5.600000\n",
      "max    490.000000  26400.000000    8.000000\n"
     ]
    }
   ],
   "source": [
    "# Checking the mean, variance etc of the variables in the dataset\n",
    "print(mdf.var(axis=0))\n",
    "\n",
    "print(mdf.describe())"
   ]
  },
  {
   "cell_type": "markdown",
   "metadata": {},
   "source": [
    "Reducing the dataset to two principal components by running it through PCA, then check out the resulting visualization."
   ]
  },
  {
   "cell_type": "code",
   "execution_count": 16,
   "metadata": {},
   "outputs": [
    {
     "name": "stdout",
     "output_type": "stream",
     "text": [
      "Scaling Features\n",
      "\n",
      "New Variances:\n",
      " bgr    1.006369\n",
      "wc     1.006369\n",
      "rc     1.006369\n",
      "dtype: float64\n",
      "New Describe:\n",
      "                 bgr            wc            rc\n",
      "count  1.580000e+02  1.580000e+02  1.580000e+02\n",
      "mean  -4.497106e-17 -4.497106e-17  1.349132e-16\n",
      "std    1.003180e+00  1.003180e+00  1.003180e+00\n",
      "min   -9.475974e-01 -1.500159e+00 -2.747446e+00\n",
      "25%   -5.305059e-01 -6.259123e-01 -3.855519e-01\n",
      "50%   -2.447210e-01 -2.168611e-01  5.730335e-02\n",
      "75%    6.306235e-03  4.167672e-01  6.969831e-01\n",
      "max    5.540492e+00  5.750474e+00  3.058878e+00\n",
      "Features by importance:\n",
      " [(3.9998071556884813, 'wc'), (3.2588876641210884, 'bgr'), (3.009752752998365, 'rc')]\n"
     ]
    },
    {
     "data": {
      "image/png": "[encoded data removed]",
      "text/plain": [
       "<Figure size 432x288 with 1 Axes>"
      ]
     },
     "metadata": {},
     "output_type": "display_data"
    }
   ],
   "source": [
    "if scaleFeatures_value: \n",
    "    print(\"Scaling Features\\n\")\n",
    "    mdf = scaleFeatures(mdf)\n",
    "    \n",
    "# Running PCA on the dataset and reducing it to 2 components\n",
    "pca = PCA(n_components = 2)\n",
    "pca.fit(mdf)\n",
    "T = pca.transform(mdf)\n",
    "\n",
    "# Converting to a Pandas Dataframe.\n",
    "# Note: Since we transformed via PCA, we no longer have column names.\n",
    "ax = drawVectors(T, pca.components_, mdf.columns.values, plt, scaleFeatures_value)\n",
    "T = pd.DataFrame(T)\n",
    "T.columns = ['component1', 'component2']\n",
    "T.plot.scatter(x='component1', y='component2', marker='o', c=labels, alpha=0.75, ax=ax)\n",
    "plt.show()"
   ]
  }
 ],
 "metadata": {
  "kernelspec": {
   "display_name": "Python 3",
   "language": "python",
   "name": "python3"
  },
  "language_info": {
   "codemirror_mode": {
    "name": "ipython",
    "version": 3
   },
   "file_extension": ".py",
   "mimetype": "text/x-python",
   "name": "python",
   "nbconvert_exporter": "python",
   "pygments_lexer": "ipython3",
   "version": "3.6.6"
  }
 },
 "nbformat": 4,
 "nbformat_minor": 2
}
